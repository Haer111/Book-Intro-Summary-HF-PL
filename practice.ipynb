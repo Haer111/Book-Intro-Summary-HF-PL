{
 "cells": [
  {
   "cell_type": "markdown",
   "id": "4b8788a1",
   "metadata": {},
   "source": [
    "# 간단한 전이학습 시켜보기\n",
    "\n",
    "1. 주제를 정한다.\n",
    "2. 주제에 맞는 태스크를 판단한다.\n",
    "3. 해당 태스크를 수행하는 모델을 huggingface에서 찾는다.\n",
    "4. 적절한 데이터셋을 정제하여 준비한다.\n",
    "5. 3에서 찾은 모델을 로드하여 '간단하게' 전이학습을 진행한다.\n",
    "6. 추론 결과를 확인한다."
   ]
  },
  {
   "cell_type": "code",
   "execution_count": null,
   "id": "c89aa25d",
   "metadata": {},
   "outputs": [],
   "source": [
    "# from dotenv import load_dotenv\n",
    "# import os\n",
    "\n",
    "# load_dotenv()\n",
    "# HF_TOKEN = os.getenv('HF_TOKEN')"
   ]
  },
  {
   "cell_type": "code",
   "execution_count": 2,
   "id": "7c1f6efd",
   "metadata": {},
   "outputs": [],
   "source": [
    "from transformers import pipeline"
   ]
  },
  {
   "cell_type": "code",
   "execution_count": null,
   "id": "6c8b9f50",
   "metadata": {},
   "outputs": [
    {
     "data": {
      "application/vnd.jupyter.widget-view+json": {
       "model_id": "0272c9643337465fb3a33167423ad686",
       "version_major": 2,
       "version_minor": 0
      },
      "text/plain": [
       "config.json:   0%|          | 0.00/782 [00:00<?, ?B/s]"
      ]
     },
     "metadata": {},
     "output_type": "display_data"
    },
    {
     "name": "stderr",
     "output_type": "stream",
     "text": [
      "c:\\Users\\Playdata\\anaconda3\\envs\\nlp_env\\Lib\\site-packages\\huggingface_hub\\file_download.py:143: UserWarning: `huggingface_hub` cache-system uses symlinks by default to efficiently store duplicated files but your machine does not support them in C:\\Users\\Playdata\\.cache\\huggingface\\hub\\models--eenzeenee--t5-base-korean-summarization. Caching files will still work but in a degraded version that might require more space on your disk. This warning can be disabled by setting the `HF_HUB_DISABLE_SYMLINKS_WARNING` environment variable. For more details, see https://huggingface.co/docs/huggingface_hub/how-to-cache#limitations.\n",
      "To support symlinks on Windows, you either need to activate Developer Mode or to run Python as an administrator. In order to activate developer mode, see this article: https://docs.microsoft.com/en-us/windows/apps/get-started/enable-your-device-for-development\n",
      "  warnings.warn(message)\n"
     ]
    },
    {
     "name": "stdout",
     "output_type": "stream",
     "text": [
      "WARNING:tensorflow:From c:\\Users\\Playdata\\anaconda3\\envs\\nlp_env\\Lib\\site-packages\\tf_keras\\src\\losses.py:2976: The name tf.losses.sparse_softmax_cross_entropy is deprecated. Please use tf.compat.v1.losses.sparse_softmax_cross_entropy instead.\n",
      "\n"
     ]
    },
    {
     "data": {
      "application/vnd.jupyter.widget-view+json": {
       "model_id": "bef5d302f99a476ca83e21456c5a0385",
       "version_major": 2,
       "version_minor": 0
      },
      "text/plain": [
       "model.safetensors:   0%|          | 0.00/1.10G [00:00<?, ?B/s]"
      ]
     },
     "metadata": {},
     "output_type": "display_data"
    },
    {
     "data": {
      "application/vnd.jupyter.widget-view+json": {
       "model_id": "49a8ff98509840a4be1c6b08573ef481",
       "version_major": 2,
       "version_minor": 0
      },
      "text/plain": [
       "tokenizer_config.json: 0.00B [00:00, ?B/s]"
      ]
     },
     "metadata": {},
     "output_type": "display_data"
    },
    {
     "data": {
      "application/vnd.jupyter.widget-view+json": {
       "model_id": "5c8ffa894bc142a3b2d6d02a03897059",
       "version_major": 2,
       "version_minor": 0
      },
      "text/plain": [
       "tokenizer.json: 0.00B [00:00, ?B/s]"
      ]
     },
     "metadata": {},
     "output_type": "display_data"
    },
    {
     "data": {
      "application/vnd.jupyter.widget-view+json": {
       "model_id": "02a6cb1a0b754e7d8d28dba72ea906d2",
       "version_major": 2,
       "version_minor": 0
      },
      "text/plain": [
       "special_tokens_map.json: 0.00B [00:00, ?B/s]"
      ]
     },
     "metadata": {},
     "output_type": "display_data"
    },
    {
     "name": "stderr",
     "output_type": "stream",
     "text": [
      "Device set to use cpu\n"
     ]
    }
   ],
   "source": [
    "# summarize = pipeline(\"summarization\", model=\"eenzeenee/t5-base-korean-summarization\")"
   ]
  },
  {
   "cell_type": "code",
   "execution_count": 6,
   "id": "988a28fe",
   "metadata": {},
   "outputs": [
    {
     "data": {
      "application/vnd.jupyter.widget-view+json": {
       "model_id": "7d206c12e8ca41ddac7d098ff5c8eb6f",
       "version_major": 2,
       "version_minor": 0
      },
      "text/plain": [
       "config.json: 0.00B [00:00, ?B/s]"
      ]
     },
     "metadata": {},
     "output_type": "display_data"
    },
    {
     "name": "stderr",
     "output_type": "stream",
     "text": [
      "c:\\Users\\Playdata\\anaconda3\\envs\\nlp_env\\Lib\\site-packages\\huggingface_hub\\file_download.py:143: UserWarning: `huggingface_hub` cache-system uses symlinks by default to efficiently store duplicated files but your machine does not support them in C:\\Users\\Playdata\\.cache\\huggingface\\hub\\models--EbanLee--kobart-summary-v3. Caching files will still work but in a degraded version that might require more space on your disk. This warning can be disabled by setting the `HF_HUB_DISABLE_SYMLINKS_WARNING` environment variable. For more details, see https://huggingface.co/docs/huggingface_hub/how-to-cache#limitations.\n",
      "To support symlinks on Windows, you either need to activate Developer Mode or to run Python as an administrator. In order to activate developer mode, see this article: https://docs.microsoft.com/en-us/windows/apps/get-started/enable-your-device-for-development\n",
      "  warnings.warn(message)\n",
      "You passed `num_labels=3` which is incompatible to the `id2label` map of length `2`.\n",
      "You passed `num_labels=3` which is incompatible to the `id2label` map of length `2`.\n"
     ]
    },
    {
     "data": {
      "application/vnd.jupyter.widget-view+json": {
       "model_id": "e60101d41ad74d5eb72d1645cf262057",
       "version_major": 2,
       "version_minor": 0
      },
      "text/plain": [
       "model.safetensors:   0%|          | 0.00/496M [00:00<?, ?B/s]"
      ]
     },
     "metadata": {},
     "output_type": "display_data"
    },
    {
     "data": {
      "application/vnd.jupyter.widget-view+json": {
       "model_id": "488a0a5c0bbc4fa3b4e327d59eb7f4ea",
       "version_major": 2,
       "version_minor": 0
      },
      "text/plain": [
       "generation_config.json:   0%|          | 0.00/191 [00:00<?, ?B/s]"
      ]
     },
     "metadata": {},
     "output_type": "display_data"
    },
    {
     "data": {
      "application/vnd.jupyter.widget-view+json": {
       "model_id": "c764c61c5f0d435da30112065bed3057",
       "version_major": 2,
       "version_minor": 0
      },
      "text/plain": [
       "tokenizer_config.json: 0.00B [00:00, ?B/s]"
      ]
     },
     "metadata": {},
     "output_type": "display_data"
    },
    {
     "data": {
      "application/vnd.jupyter.widget-view+json": {
       "model_id": "964c0196672f46c39d54b65916f590d3",
       "version_major": 2,
       "version_minor": 0
      },
      "text/plain": [
       "tokenizer.json: 0.00B [00:00, ?B/s]"
      ]
     },
     "metadata": {},
     "output_type": "display_data"
    },
    {
     "data": {
      "application/vnd.jupyter.widget-view+json": {
       "model_id": "286dc9f578ea4e5280c5a2d0c795ee76",
       "version_major": 2,
       "version_minor": 0
      },
      "text/plain": [
       "special_tokens_map.json:   0%|          | 0.00/692 [00:00<?, ?B/s]"
      ]
     },
     "metadata": {},
     "output_type": "display_data"
    },
    {
     "name": "stderr",
     "output_type": "stream",
     "text": [
      "Device set to use cpu\n"
     ]
    }
   ],
   "source": [
    "summarize2 = pipeline(\"summarization\", model=\"EbanLee/kobart-summary-v3\")"
   ]
  },
  {
   "cell_type": "code",
   "execution_count": null,
   "id": "42366952",
   "metadata": {},
   "outputs": [
    {
     "name": "stdout",
     "output_type": "stream",
     "text": [
      "호의에 대하여 | 문형배 재판관이 편견과 독선에 빠지지 않고 작고 평범한 보통의 삶을 지키기 위해 배우고 성\n",
      "다시 시작하는 평생 독서법 | 독서의 모든 순간을 즐길 수 있는 '평생 독서법'잘 고르고, 읽고, 쓰고, 남기는 확장된 \n",
      "예약판매세상은 실제로 어떻게 돌아가는가 | 세계적 환경과학자 바츨라프 스밀 신작!기후변화, 식량, 에너지, 팬데믹까지미래의 한계와 기\n",
      "다크 심리학 | 국내 최초 ‘다크 심리학’을 기반한 심리 기술출간 전부터 50만 팔로워가 기다린 바로 그 \n",
      "팩트풀니스(50만 부 뉴에디션) | 세계 지성계를 사로잡은 50만 부 기념 뉴에디션!“실체를 바라보고, 오해를 줄이며, 마음의\n",
      "예약판매우리 본성의 선한 천사 | 인간의 폭력성과 인류 문명사에 관한 충격적 진실!\n",
      "인간은 폭력성과 어떻게 싸워 왔는가『우리\n",
      "예약판매오늘도 잘 놀다 갑니다 | 〈소풍족〉 김은영 작가의 첫 에세이10만 구독자를 사로잡은 〈소풍족〉의 쫄깃한 여행기부터사\n",
      "혼모노 | ‘2024 한국문학의 미래가 될 젊은 작가’ 1위 선정!지금 가장 생생하고 뜨거운 이름,성\n",
      "안녕이라 그랬어 | “나는 김애란이 오랫동안 사회학자였고이제야말로 유감없이 그렇다고 주장할 것이다.”_신형철(\n",
      "고전이 답했다 마땅히 가져야 할 부에 대하여 | “위대해지는 것을 두려워 마라.마땅히 가져야 할 자신의 부를 거머쥐라!”★★★ 50만 독자\n",
      "월요일 수요일 토요일 | “기억은 사라져도, 마음은 더욱 쌓여간다” 일주일에 세 번, 서로의 삶에 머문 그 찬란한 \n",
      "박곰희 연금 부자 수업 | “연금 투자야말로 평범한 사람들이 부자가 되는 확실한 방법이다!” 81만 투자 멘토 ‘박곰\n",
      "렛뎀 이론 | “그들의 감정은 내 몫이 아닙니다.내버려두세요. 그리고 당신이 할 일을 하세요!”전세계가 \n",
      "편안함의 습격 | “당신은 편안함을 얻은 대가로 무엇을 잃었는가?”\n",
      "오늘날 우리는 그 어느 때보다 편안한 환\n",
      "모순 | ※본 도서의 표지 색상은 2쇄를 주기로 변경됩니다. 등록된 이미지와 다른 색의 표지가 발송\n",
      "자몽살구클럽 | 죽고 싶은 아이들의살구 싶은 이야기싱어송라이터 한로로의첫 번째 단편소설\n",
      "〈자몽살구클럽〉은 \n",
      "류수영의 평생 레시피 | “된장찌개에 식초를 넣었더니, 감칠맛은 더하고 잡내가 날아갔어요.”“당근 기름 하나로 모든\n",
      "가공범 | 히가시노 게이고 작가 데뷔 40주년! 고다이 쓰토무가 시작하는 새로운 시리즈\n",
      "히가시노 게이\n",
      "어른의 행복은 조용하다 | 요란한 세상에서도 흔들리지 않고 내 삶을 사는 현명한 행복에 관하여행복을 찾는 방법이 아니\n",
      "해커스 토익 기출 VOCA(보카) | 주제별 연상암기로 토익 영단어 30일 완성\n",
      "1. 토익 기출 보카 30일 완성!2. 주제별 \n"
     ]
    }
   ],
   "source": [
    "from selenium import webdriver\n",
    "from selenium.webdriver.common.by import By\n",
    "from selenium.webdriver.chrome.service import Service\n",
    "from selenium.webdriver.support.ui import WebDriverWait\n",
    "from selenium.webdriver.support import expected_conditions as EC\n",
    "import time\n",
    "import pandas as pd\n",
    "\n",
    "path = \"chromedriver.exe\"\n",
    "service = Service(path)\n",
    "driver = webdriver.Chrome(service=service)\n",
    "\n",
    "driver.get(\"https://store.kyobobook.co.kr/bestseller/online/daily/domestic?page=1\")\n",
    "time.sleep(5)\n",
    "\n",
    "book_elems = driver.find_elements(By.CSS_SELECTOR, \"a.prod_link.line-clamp-2.font-medium.text-black\")[:20]\n",
    "\n",
    "books = []\n",
    "for elem in book_elems:\n",
    "    title = elem.text.strip()\n",
    "    link = elem.get_attribute(\"href\")\n",
    "\n",
    "    driver.execute_script(\"window.open(arguments[0]);\", link)\n",
    "    driver.switch_to.window(driver.window_handles[-1])\n",
    "    \n",
    "    try:\n",
    "        wait = WebDriverWait(driver, 20)\n",
    "        wait.until(EC.presence_of_element_located((By.CSS_SELECTOR, \"div.product_detail_area.book_intro\")))\n",
    "        intro_elems = driver.find_elements(By.CSS_SELECTOR, \"div.product_detail_area.book_intro div.info_text\")\n",
    "        intro = \"\\n\".join([e.get_attribute(\"textContent\").strip() for e in intro_elems if e.text.strip()])\n",
    "    except:\n",
    "        intro = \"소개 없음\"\n",
    "\n",
    "    books.append({\"title\": title, \"intro\": intro})\n",
    "    print(title, \"|\", intro[:50])\n",
    "\n",
    "    driver.close()\n",
    "    driver.switch_to.window(driver.window_handles[0])\n",
    "\n",
    "df = pd.DataFrame(books)\n",
    "df.to_csv(\"kyobo_books.csv\", index=False, encoding=\"utf-8-sig\")\n",
    "\n",
    "driver.quit()\n"
   ]
  },
  {
   "cell_type": "markdown",
   "id": "05e0fc31",
   "metadata": {},
   "source": [
    "데이터 정제"
   ]
  },
  {
   "cell_type": "code",
   "execution_count": 42,
   "id": "68c21de8",
   "metadata": {},
   "outputs": [],
   "source": [
    "import re\n",
    "import pandas as pd \n",
    "\n",
    "def clean_text(text):\n",
    "    text = re.sub(r\"<.*?>\", \" \", text)  # HTML 태그 제거\n",
    "    text = re.sub(r\"[★☆※♣♠♥♦●○◎◇◆■□▲▼▶▷◀◁『』《》“”‘’\\\"\\'\\U00010000-\\U0010ffff]\", \" \", text)  # 특수문자/이모지 제거\n",
    "    noise = [\n",
    "        r\"교보문고\\s*\",\n",
    "        r\"바로드림\\s*\",\n",
    "        r\"예약판매\\s*\",\n",
    "        r\"구매혜택.*\",\n",
    "    ]\n",
    "    for p in noise:\n",
    "        text = re.sub(p, \" \", text)\n",
    "    text = re.sub(r\"\\s+\", \" \", text).strip()  # 공백\n",
    "    return text"
   ]
  },
  {
   "cell_type": "code",
   "execution_count": 47,
   "id": "8625e787",
   "metadata": {},
   "outputs": [],
   "source": [
    "df = pd.read_csv(\"kyobo_books.csv\")\n",
    "df[\"clean_title\"] = df[\"title\"].apply(clean_text)\n",
    "df[\"clean_text\"] = df[\"intro\"].apply(clean_text)\n",
    "df_cleaned = df[[\"clean_title\", \"clean_text\"]]\n",
    "df_cleaned.to_csv(\"kyobo_books_cleaned.csv\", index=False, encoding=\"utf-8-sig\")"
   ]
  },
  {
   "cell_type": "code",
   "execution_count": null,
   "id": "b745c23d",
   "metadata": {},
   "outputs": [
    {
     "data": {
      "text/html": [
       "<div>\n",
       "<style scoped>\n",
       "    .dataframe tbody tr th:only-of-type {\n",
       "        vertical-align: middle;\n",
       "    }\n",
       "\n",
       "    .dataframe tbody tr th {\n",
       "        vertical-align: top;\n",
       "    }\n",
       "\n",
       "    .dataframe thead th {\n",
       "        text-align: right;\n",
       "    }\n",
       "</style>\n",
       "<table border=\"1\" class=\"dataframe\">\n",
       "  <thead>\n",
       "    <tr style=\"text-align: right;\">\n",
       "      <th></th>\n",
       "      <th>clean_title</th>\n",
       "      <th>clean_text</th>\n",
       "    </tr>\n",
       "  </thead>\n",
       "  <tbody>\n",
       "    <tr>\n",
       "      <th>0</th>\n",
       "      <td>호의에 대하여</td>\n",
       "      <td>문형배 재판관이 편견과 독선에 빠지지 않고 작고 평범한 보통의 삶을 지키기 위해 배...</td>\n",
       "    </tr>\n",
       "    <tr>\n",
       "      <th>1</th>\n",
       "      <td>다시 시작하는 평생 독서법</td>\n",
       "      <td>독서의 모든 순간을 즐길 수 있는 평생 독서법 잘 고르고, 읽고, 쓰고, 남기는 확...</td>\n",
       "    </tr>\n",
       "    <tr>\n",
       "      <th>2</th>\n",
       "      <td>세상은 실제로 어떻게 돌아가는가</td>\n",
       "      <td>세계적 환경과학자 바츨라프 스밀 신작!기후변화, 식량, 에너지, 팬데믹까지미래의 한...</td>\n",
       "    </tr>\n",
       "    <tr>\n",
       "      <th>3</th>\n",
       "      <td>다크 심리학</td>\n",
       "      <td>국내 최초 다크 심리학 을 기반한 심리 기술출간 전부터 50만 팔로워가 기다린 바로...</td>\n",
       "    </tr>\n",
       "    <tr>\n",
       "      <th>4</th>\n",
       "      <td>팩트풀니스(50만 부 뉴에디션)</td>\n",
       "      <td>세계 지성계를 사로잡은 50만 부 기념 뉴에디션! 실체를 바라보고, 오해를 줄이며,...</td>\n",
       "    </tr>\n",
       "  </tbody>\n",
       "</table>\n",
       "</div>"
      ],
      "text/plain": [
       "         clean_title                                         clean_text\n",
       "0            호의에 대하여  문형배 재판관이 편견과 독선에 빠지지 않고 작고 평범한 보통의 삶을 지키기 위해 배...\n",
       "1     다시 시작하는 평생 독서법  독서의 모든 순간을 즐길 수 있는 평생 독서법 잘 고르고, 읽고, 쓰고, 남기는 확...\n",
       "2  세상은 실제로 어떻게 돌아가는가  세계적 환경과학자 바츨라프 스밀 신작!기후변화, 식량, 에너지, 팬데믹까지미래의 한...\n",
       "3             다크 심리학  국내 최초 다크 심리학 을 기반한 심리 기술출간 전부터 50만 팔로워가 기다린 바로...\n",
       "4  팩트풀니스(50만 부 뉴에디션)  세계 지성계를 사로잡은 50만 부 기념 뉴에디션! 실체를 바라보고, 오해를 줄이며,..."
      ]
     },
     "execution_count": 48,
     "metadata": {},
     "output_type": "execute_result"
    }
   ],
   "source": [
    "df = pd.read_csv(\"kyobo_books_cleaned.csv\")\n",
    "df.head()"
   ]
  },
  {
   "cell_type": "code",
   "execution_count": 51,
   "id": "16395a13",
   "metadata": {},
   "outputs": [
    {
     "name": "stderr",
     "output_type": "stream",
     "text": [
      "Your max_length is set to 300, but your input_length is only 182. Since this is a summarization task, where outputs shorter than the input are typically wanted, you might consider decreasing max_length manually, e.g. summarizer('...', max_length=91)\n"
     ]
    },
    {
     "name": "stdout",
     "output_type": "stream",
     "text": [
      "교보문고 베스트셀러 top20 (국내도서)\n",
      "\n",
      "1. 제목: 호의에 대하여\n",
      "   책 소개 요약: 문형배 재판관이 편견과 독선에 빠지지 않고 작고 평범한 보통의 삶을 지키기 위해 배우고 성찰하며 기록한 120편의 글. 나의 일상을 풍요롭게 채우는 건 어떤 의미인가, 다른 사람의 삶을 온전히 이해할 수 있는가, 사람과 사회는 바뀔 수 있는가.\n",
      "\n",
      "2. 제목: 다시 시작하는 평생 독서법\n",
      "   책 소개 요약: 독서의 모든 순간을 즐길 수 있는 평생 독서법 잘 고르고, 읽고, 쓰고, 남기는 확장된 독서의 모든 것 책 읽는 게 힙한 취미라고 한다. 독서는 더 이상 조용한 취미가 아니라 트렌디한 자기 표현 방식이 되고 있다. 하지만 현실은 어떤가. 책을 사서 올려두고 사진만 찍은 채 끝내는 경우가 많다. 김선영 작가는 신작 다시 시작하는 평생 독서법 을 통해 근본적인 독서의 방법을 처음부터 다시 시작하자고 제안한다.\n",
      "\n",
      "3. 제목: 세상은 실제로 어떻게 돌아가는가\n",
      "   책 소개 요약: 세계적 환경과학자이자 경제사학자, 빌 게이츠가 가장 신뢰하는 전방위 사상가 바츨라프 스밀이 객관적 통계와 수학적 자료를 토대로 인류의 과거를 탐색하고, 현대 문명에 대한 오해와 진실을 밝힌다. 사실 기반의 명확한 데이터와 통계를 치밀하고 집요하게 추적하는 바츨라프 스밀 특유의 서술 방식은 현대 세계의 작동 방식을 설명하는 데 더없이 적합하다.\n",
      "\n"
     ]
    },
    {
     "name": "stderr",
     "output_type": "stream",
     "text": [
      "Your max_length is set to 300, but your input_length is only 180. Since this is a summarization task, where outputs shorter than the input are typically wanted, you might consider decreasing max_length manually, e.g. summarizer('...', max_length=90)\n"
     ]
    },
    {
     "name": "stdout",
     "output_type": "stream",
     "text": [
      "4. 제목: 다크 심리학\n",
      "   책 소개 요약: 인간 본성의 어두운 면을 탐구하여 타인의 감정을 조종하거나 조작하는 기술을 융합한 국내 최초 다크 심리학을 기반한 심리 기술을 담아낸 다크 심리학 은 인간의 본성, 그 어두운 프로그래밍을 실전 기술로 해부한 책이다. 이 책을 통해 어둠의 구조와 전략을 알게 된다면, 더는 당하는 희생자 가 아니다. 더 나아가 필요하다면 어둠의 기술 들을 창의적으로 재구성할 수도 있다. 지금, 당신이 살아남기 위해 가장 먼저 읽어야 할 책. 다크 심리학 을 꼭 만나기를 바란다.\n",
      "\n",
      "5. 제목: 팩트풀니스(50만 부 뉴에디션)\n",
      "   책 소개 요약: 전 세계적으로 확증편향이 기승을 부리는 탈진실의 시대에 막연한 두려움과 편견을 이기는 팩트의 중요성을 일깨우는 세계적 역작. 세상을 바라보는 방식을 바꾸고 미래의 위기와 기회에 대처하기 위해 반드시 읽어야 할 필독서이다.\n",
      "\n"
     ]
    },
    {
     "name": "stderr",
     "output_type": "stream",
     "text": [
      "Your max_length is set to 300, but your input_length is only 236. Since this is a summarization task, where outputs shorter than the input are typically wanted, you might consider decreasing max_length manually, e.g. summarizer('...', max_length=118)\n"
     ]
    },
    {
     "name": "stdout",
     "output_type": "stream",
     "text": [
      "6. 제목: 우리 본성의 선한 천사\n",
      "   책 소개 요약: 이 책은 인간사회에서 발생한 폭력을 분석한 실증연구이자 전작인 마음 3부작을 통해 저자가 심층적으로 탐구해 온 인간 본성의 과학을 집대성한 결과물이다. 전쟁과 약탈, 학대, 강간, 살인 등 갖가지 잔혹 행위를 기록한 사료들 뿐 아니라 고고학, 민족지학, 인류학 등 방대한 자료를 분석하여 폭력의 역사를 재구성하였다. 독자들에게 우리가 살고 있는 오늘이 과거 어느 때보다 덜 잔인하고 덜 폭력적이며 더 평화로운 시대라는 것을 깨닫게 해준다.\n",
      "\n",
      "7. 제목: 오늘도 잘 놀다 갑니다\n",
      "   책 소개 요약: <소풍족>은 여행 중 마주하는 당황스러움, 혼자만의 시간에 떠오르는 복잡한 감정들, 여행이 단순한 휴식이나 재미를 넘어 일상으로 돌아온 후에도 우리 삶에 어떤 변화를 가져다주는지, 그 과정에서 우리는 어떻게 조금씩 성장해 가는지를 보여주는 책이다.\n",
      "\n",
      "8. 제목: 혼모노\n",
      "   책 소개 요약: 성해나는 2024·2025 젊은작가상, 2024 이효석문학상 우수작품상, 2024 김만중문학상 신인상 등 다수의 문학상을 연달아 수상하고 예스24가 선정한 2024 한국문학의 미래가 될 젊은 작가 투표에서 1위로 선정되는 등 이미 그 화제성을 증명한 바 있다. 이번 소설집에는 표제작 「혼모노」를 비롯해 작가에게 2년 연속 젊은작가상을 선사해준 「길티 클럽: 호랑이 만지기」, 이 계절의 소설과 올해의 문제소설에 선정된 「스무드」 등이 수록되어 더욱 눈길을 끈다.\n",
      "\n",
      "9. 제목: 안녕이라 그랬어\n",
      "   책 소개 요약: 소설가 김애란이 바깥은 여름 이후 팔 년 만에 새 소설집으로 돌아왔다. 이번 책에서는 인물들이 누군가의 공간을 방문하면서 이야기가 펼쳐진다. 그곳은 집주인의 미감과 여유를 짐작하게 하는 우아하고 안정적인 공간이거나(「홈 파티」), 값싼 물가와 저렴한 체류 비용 덕분에 한 달 여행이라는 사치 를 가능하게 하는 해외의 단독주택이다(「숲속 작은 집」). 그리고 정성스레 가꾸고 사용해왔지만 이제는 새 집주인을 위해 이사 준비를 해야 하는 전셋집이거나(「좋은 이웃」), 회사를 관두고 그간 모은 돈을 전부 털어 문을 연 책방이기도 하다(「레몬케이크」). 안녕이라 그랬어 에서 공간이 중요한 이유는 그곳이 단순히 이야기의 배경으로 기능하는 게 아니라 인물들의 삶 그 자체와 같기 때문이다.\n",
      "\n",
      "10. 제목: 고전이 답했다 마땅히 가져야 할 부에 대하여\n",
      "   책 소개 요약: 한 달에 30여 차례 전국의 강연장을 찾아가 독자들을 만나고, 매일 아침 유튜브를 통해 10만 독자들에게 동기부여 강연을 하는 고명환이 고전이 답했다 마땅히 살아야 할 삶에 대하여 에 이어 이번에는 마땅히 가져야 할 부(富) 에 대해 말한다. 고전이 답했다 마땅히 가져야 할 부에 대하여 는 많은 사람들의 고민이자 가장 관심 있는 주제 돈 에 관해 말한다. 나는 부자가 될 수 있는지, 얼마만큼 가져야 하는지, 부자가 되려면 무엇을 해야하는지 등 돈과 관련된 질문을 던지고 고전에서 그 답을 찾아간다.\n",
      "\n",
      "11. 제목: 월요일 수요일 토요일\n",
      "   책 소개 요약: 페트라 펠리니는 일주일에 세 번 서로의 삶에 머문 그 찬란한 시간들의 기록 22페이지의 원고로 오스트리아 지역 문학상을 수상하고, 독일 13개 출판사가 판권을 따내기 위해 경합을 벌인 화제작, 월요일 수요일 토요일 이 마침내 한국에서 출간되었다. 작가는 출간 직후 한 인터뷰에서 이 소설을 쓴 것은, 어쩌면 약한 존재를 보호하고 싶다는 내면의 욕망 때문일지도 모르겠다 고 밝혔다. 독자에게도 올해 단 한 권만 읽는다면 반드시 이 책 이라는 뜨거운 호평을 받으며 출간 즉시 베스트셀러에 올랐다.\n",
      "\n",
      "12. 제목: 박곰희 연금 부자 수업\n",
      "   책 소개 요약: 베스트셀러 박곰희 투자법 출간 5년 만에 돌아온 금융 유튜버 박곰희가 이번엔 연금으로 평생 월급 받는 비밀을 공개한다. 복잡한 투자 지식이나 목돈 없이도 4개의 절세 통장과 검증된 투자 방법만으로 누구나 따라 할 수 있는 연금 부자 로드맵을 완성했다. 이 책의 가장 혁신적인 부분은 은퇴 후 안정적인 자산 인출 전략으로 4% 룰 을 적용했다는 점이다. 30~40대 직장인부터 50대 예비 은퇴자까지, 노후 준비를 시작하고 싶지만 어디서부터 손대야 할지 모르는 투자 초보자들에게 이 책은 가장 현실적이고 검증된 해답을 제시한다.\n",
      "\n",
      "13. 제목: 렛뎀 이론\n",
      "   책 소개 요약: 멜 로빈스는 이 책에서 중요하지도 않은 것들을 신경 쓰느라 나를 소모하는 싸움에서 벗어나, 진정 중요한 것-즉 자기 자신, 자기 행복, 목표, 인생-에 집중하는 방법을 알려준다. 통제할 수 없는 일에 에너지를 낭비하지 않는 법, 끊임없는 비교를 멈추고 두려움과 자기 의심을 극복하는 법, 타인의 기대나 평가에서 자유로워지는 법, 건강한 인간관계와 깊은 유대를 만드는 법, 중요한 목표를 자신 있게 추구하는 법, 스트레스에 대한 회복력을 기르는 법, 나만의 성공과 성취의 길을 찾는 법 등 이 책은 저자가 SNS에 올린 짧은 영상이 수천만 뷰를 기록하고, Let Them 타투 인증샷이 유행처럼 번지면서 그 화제성을 업고 출간하게 되었다.\n",
      "\n"
     ]
    },
    {
     "name": "stderr",
     "output_type": "stream",
     "text": [
      "Your max_length is set to 300, but your input_length is only 277. Since this is a summarization task, where outputs shorter than the input are typically wanted, you might consider decreasing max_length manually, e.g. summarizer('...', max_length=138)\n"
     ]
    },
    {
     "name": "stdout",
     "output_type": "stream",
     "text": [
      "14. 제목: 편안함의 습격\n",
      "   책 소개 요약: 행동 변화 전문가이자 건강 분야 저널리스트인 마이클 이스터는 북극 알래스카를 비롯해 부탄, 전쟁 지역, 볼리비아 정글 등을 탐험하고, 각 분야 최고의 석학들과 프로 스포츠 선수, 종교 및 환경 지도자에 이르기까지 수천 명의 전문가를 인터뷰하면서 현대인의 건강과 행복, 의미 있는 삶을 탐구해왔다. 그는 인류가 잃어버린 감각, 불편함의 진화적 효용을 탐구하고, 중독, 우울증, 불안, 자살, 비만, 외로움증후군, 번아웃, 삶의 의미 상실 등 현대인들이 당면한 문제가 어떻게 편안함과 연결되는지 심도 있게 분석한다.\n",
      "\n",
      "15. 제목: 모순\n",
      "   책 소개 요약: 양귀자 소설의 힘을 보여준 베스트셀러 모순은 1998년에 초판이 출간된 이후 132쇄를 찍으며 여전히 많은 사랑을 받고 있는 작품을, 오래도록 소장할 수 있는 양장본으로 새롭게 선보인다. 스물다섯 살 미혼여성 안진진을 통해 모순으로 가득한 우리의 인생을 들여다본다. 이 작품이 출간된 지 15년, 모순으로 얽힌 삶은 여전히 어렵기만 하지만 인생을 그냥 흘려보내고 있는 많은 사람들에게 새롭게 인생을 돌아보는 계기를 마련해준다.\n",
      "\n",
      "16. 제목: 자몽살구클럽\n",
      "   책 소개 요약: 싱어송라이터 한로로의 첫 번째 단편소설 <자몽살구클럽>은 세 번째 EP 음악 앨범과 연결된 동명의 소설이다. 이 시대는 어른들뿐만 아니라 어린아이들까지 벼랑 끝으로 내몰고 있다는 것, 그 잔인한 현실을 무섭게 직시하는 이야기를 담고 싶었다. 그러나 약 20분 길이의 음악앨범에 그 모든 이야기를 담을 수는 없었다. 그리하여 한로로는 우리에게 긴 호흡의 소설을 선사하게 된 것이다.\n",
      "\n",
      "17. 제목: 류수영의 평생 레시피\n",
      "   책 소개 요약: 자타공인 집밥 마스터 어남선생 류수영이 수년간 자체 개발한 300여 개의 레시피를 추리고 추리고 추려서 한 권의 책으로 펴낸다. 편스토랑을 비롯해 방송에서 소개했던 레시피 중에서 가장 사랑받은 79가지 메뉴를 엄선한 것이다. 재료와 계량 및 소요 시간에 대한 꼼꼼한 점검이 이루어졌으며, 그 결과 좀 더 정교하고 완벽한 레시피로 재탄생했다. 조리도구도 프라이팬, 냄비, 칼 등만 있으면 모든 요리가 가능하며, 그 흔한 오븐이나 에어프라이어 없이 완성할 수 있도록 구성했다.\n",
      "\n",
      "18. 제목: 가공범\n",
      "   책 소개 요약: 1985년 데뷔하여 2025년 작가 데뷔 40주년을 맞이한 고다이 쓰토무를 주인공으로 내세움으로써 새로운 시리즈의 시작을 알린 히가시노 게이고의 장편소설 가공범은 일본 출간 후 이례적으로 빠른 증쇄와 2024년 베스트 미스터리 선정, 2025년 일본미스터리문학 대상 수상, 일본 최대 서점 체인 기노쿠니야·출판 유통사 토한 종합 1위 등의 성과를 거두며 히가시노 매직이 더욱 강력해졌음을 증명해 냈다.\n",
      "\n"
     ]
    },
    {
     "name": "stderr",
     "output_type": "stream",
     "text": [
      "Your max_length is set to 300, but your input_length is only 111. Since this is a summarization task, where outputs shorter than the input are typically wanted, you might consider decreasing max_length manually, e.g. summarizer('...', max_length=55)\n"
     ]
    },
    {
     "name": "stdout",
     "output_type": "stream",
     "text": [
      "19. 제목: 어른의 행복은 조용하다\n",
      "   책 소개 요약: 에세이스트 태수가 2년만의 신작 어른의 행복은 조용하다로 돌아왔다. 저자 태수는 삶의 행복에 가까워지는 방법에 대해 이야기한다. 새로운 것, 짜릿한 것, 남들보다 높은 곳에서 행복하고 싶어 발버둥치는 사람들에게 행복은 꼭 그런 데에만 있는 게 아니라 불행해지지 않는 것에서부터 출발한다고 조용히 알려준다. 어른의 행복은 조용하다 는 요란한 세상에서도 흔들리지 않고 내 삶을 살아가는 튼튼하고 단단한 태도에 대해 말한다.\n",
      "\n",
      "20. 제목: 해커스 토익 기출 VOCA(보카)\n",
      "   책 소개 요약: 주제별 연상암기로 토익 영단어 30일 완성. 최신 기출 단어 및 출제포인트 수록4. 목표 점수대별 필수 단어로 맞춤 학습 가능 5. 출제율 높은 핵심 단어만 골라 효율적으로 학습6.\n",
      "\n"
     ]
    }
   ],
   "source": [
    "print(\"교보문고 베스트셀러 top20 (국내도서)\\n\")\n",
    "\n",
    "results = []\n",
    "\n",
    "for i, row in enumerate(df.iterrows(), start=1):\n",
    "    title = row[1][\"clean_title\"]\n",
    "    intro = str(row[1][\"clean_text\"]).strip()\n",
    "    summary = summarize2(intro)[0][\"summary_text\"]\n",
    "    results.append({\n",
    "        \"번호\": i,\n",
    "        \"제목\": title,\n",
    "        \"책 소개 요약\": summary\n",
    "    })\n",
    "    print(f\"{i}. 제목: {title}\")\n",
    "    print(f\"   책 소개 요약: {summary}\\n\")\n",
    "\n",
    "summary_df = pd.DataFrame(results)\n",
    "summary_df.to_csv(\"kyobo_summary.csv\", index=False, encoding=\"utf-8-sig\")\n"
   ]
  }
 ],
 "metadata": {
  "kernelspec": {
   "display_name": "nlp_env",
   "language": "python",
   "name": "python3"
  },
  "language_info": {
   "codemirror_mode": {
    "name": "ipython",
    "version": 3
   },
   "file_extension": ".py",
   "mimetype": "text/x-python",
   "name": "python",
   "nbconvert_exporter": "python",
   "pygments_lexer": "ipython3",
   "version": "3.12.11"
  }
 },
 "nbformat": 4,
 "nbformat_minor": 5
}
